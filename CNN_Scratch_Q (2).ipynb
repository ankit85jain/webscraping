{
 "cells": [
  {
   "cell_type": "markdown",
   "metadata": {},
   "source": [
    "### Welcome to MFDM - AI Slamdunk Hackathon . \n",
    "\n",
    "#### This hackathon has two parts  \n",
    "\n",
    "1. Developing basic image transformation operations \n",
    "2. Developing convolutional operations \n",
    "\n",
    "-----------------------------------------------------------------------------------------------\n",
    "\n",
    "\n",
    "#### Some Instructions \n",
    "\n",
    "1. Kindly follow the naming convention mentioned in the jupyter notebook - else your code will not be testable \n",
    "2. Necessary Instructions have been provided\n",
    "3. Dont forget to run the final cell in the jupyter notebook failing which your efforts will be invalid \n",
    "-------------------------------------------------------------------------------------------------"
   ]
  },
  {
   "cell_type": "markdown",
   "metadata": {},
   "source": [
    "#### Import the necessary packages here"
   ]
  },
  {
   "cell_type": "code",
   "execution_count": 132,
   "metadata": {},
   "outputs": [],
   "source": [
    "import numpy as np\n",
    "import matplotlib.pyplot as plt\n",
    "from scipy import ndimage\n",
    "import skimage\n",
    "from numpy.lib.stride_tricks import as_strided\n",
    "\n"
   ]
  },
  {
   "cell_type": "markdown",
   "metadata": {},
   "source": [
    "# Define functions for the following tasks using same function and parameter names:\n",
    "    1. rgb2gray(img) - Converts RGB image to Grayscale\n",
    "    2. tilt(img, angle) - Rotates the image by the specified angle\n",
    "    3. horizontal_flip(img) - Flip image along Y - axis\n",
    "    4. vertical_flip(img) - Flip image along X - axis\n",
    "    5. crop(img,x1,y1,x2,y2) - Crop out the specified image window\n",
    "### You may use scikit-image which is preinstalled in this environment"
   ]
  },
  {
   "cell_type": "code",
   "execution_count": 133,
   "metadata": {},
   "outputs": [],
   "source": [
    "## Function name: rgb2gray\n",
    "## parameters : img: np.array - Multi Channel\n",
    "## return-type: img: np.array\n",
    "\n",
    "### Define your function here (will be evaluated)\n",
    "def rgb2gray(img):\n",
    "    return skimage.color.rgb2gray(img) #np.dot(img[...,:3],[0.299,0.587,0.144])"
   ]
  },
  {
   "cell_type": "code",
   "execution_count": 134,
   "metadata": {},
   "outputs": [],
   "source": [
    "## Function name: tilt\n",
    "## parameters : img: np.array\n",
    "##              angle: int - 0 to 360\n",
    "## return-type: img: np.array\n",
    "\n",
    "### Define your function here (will be evaluated)\n",
    "def tilt(img, angle):\n",
    "    return skimage.transform.rotate(img,angle) #ndimage.rotate(img,angle)"
   ]
  },
  {
   "cell_type": "code",
   "execution_count": 135,
   "metadata": {},
   "outputs": [],
   "source": [
    "## Function name: horizontal_flip\n",
    "## parameters : img: np.array\n",
    "## return-type: img: np.array\n",
    "\n",
    "### Define your function here (will be evaluated)\n",
    "def  horizontal_flip(img):\n",
    "    return np.fliplr(img)"
   ]
  },
  {
   "cell_type": "code",
   "execution_count": 136,
   "metadata": {},
   "outputs": [],
   "source": [
    "## Function name: vertical_flip\n",
    "## parameters : img: np.array\n",
    "## return-type: img: np.array\n",
    "\n",
    "### Define your function here (will be evaluated)\n",
    "def  vertical_flip(img):\n",
    "    return np.flipud(img)"
   ]
  },
  {
   "cell_type": "code",
   "execution_count": 137,
   "metadata": {},
   "outputs": [],
   "source": [
    "## Function name: crop\n",
    "## parameters : img: np.array - Single Channel or Multi Channel\n",
    "##              x1: int - Window X_min\n",
    "##              y1: int - Window Y_min\n",
    "##              x2: int - Window X_max\n",
    "##              y2: int - Window Y_max\n",
    "## return-type: img: np.array\n",
    "\n",
    "### Define your function here (will be evaluated)\n",
    "def crop(img,x1,y1,x2,y2):\n",
    "    if(len(img.shape)==3):\n",
    "        return img[x1:x2,y1:y2,:]\n",
    "    else:\n",
    "        return img[x1:x2,y1:y2]"
   ]
  },
  {
   "cell_type": "markdown",
   "metadata": {},
   "source": [
    "### Implement the convolution operations using numpy as per the instructions given below\n",
    "\n",
    "- You are only allowed to use Numpy package to perform convolution operations, please avoid using other packages, doing so you will be disqualified."
   ]
  },
  {
   "cell_type": "code",
   "execution_count": 138,
   "metadata": {},
   "outputs": [],
   "source": [
    "## Function name: convolution\n",
    "## parameters : img: np.array - Single Channel or Multi Channel\n",
    "##              layer_filters: np.array - Shape: (num_filters, filter_height, filter_width, num_channels) if Multichannel else\n",
    "##                                        Shape: (num_filters, filter_height, filter_width) if Singlechannel\n",
    "##              padding: str - 'same' or 'valid', default = 'valid'\n",
    "## return-type: img: np.array\n",
    "\n",
    "### Define your function here (will be evaluated)\n",
    "\n",
    "def convolution_intern(img, layer_filters, padding):\n",
    "    filter_size = layer_filters.shape[1]\n",
    "    result = np.zeros((img.shape))\n",
    "    for r in np.uint16(np.arange(filter_size/2.0, \n",
    "                          img.shape[0]-filter_size/2.0+1)):\n",
    "        for c in np.uint16(np.arange(filter_size/2.0, \n",
    "                                           img.shape[1]-filter_size/2.0+1)):\n",
    "            curr_region = img[r-np.uint16(np.floor(filter_size/2.0)):r+np.uint16(np.ceil(filter_size/2.0)), \n",
    "                              c-np.uint16(np.floor(filter_size/2.0)):c+np.uint16(np.ceil(filter_size/2.0))]\n",
    "            \n",
    "            curr_result = curr_region * layer_filters\n",
    "            convolution_internsum = np.sum(curr_result)\n",
    "            result[r, c] = convolution_internsum\n",
    "            \n",
    "    #Clipping the outliers of the result matrix.\n",
    "    final_result = result[np.uint16(filter_size/2.0):result.shape[0]-np.uint16(filter_size/2.0), \n",
    "                          np.uint16(filter_size/2.0):result.shape[1]-np.uint16(filter_size/2.0)]\n",
    "    return final_result\n",
    "    #return result\n",
    "def convolution(img, layer_filters, padding='valid'):\n",
    "    \n",
    "    feature_maps = np.zeros((img.shape[0]-layer_filters.shape[1]+1, \n",
    "                                img.shape[1]-layer_filters.shape[1]+1, \n",
    "                                layer_filters.shape[0]))\n",
    "\n",
    "    # Convolving the image by the filter(s).\n",
    "    for filter_num in range(layer_filters.shape[0]):\n",
    "        curr_filter = layer_filters[filter_num, :]\n",
    "        \n",
    "        if len(curr_filter.shape) > 2:\n",
    "            convolution_internmap = convolution_intern(img[:, :, 0], curr_filter[:, :, 0], padding) \n",
    "            for ch_num in range(1, curr_filter.shape[-1]):\n",
    "                convolution_internmap = convolution_internmap + convolution_intern(img[:, :, ch_num], \n",
    "                                  curr_filter[:, :, ch_num], padding)\n",
    "        else: convolution_internmap = convolution_intern(img, curr_filter, padding)\n",
    "        feature_maps[:, :, filter_num] = convolution_internmap\n",
    "    return feature_maps\n",
    "\n"
   ]
  },
  {
   "cell_type": "markdown",
   "metadata": {},
   "source": [
    "### Sample IO"
   ]
  },
  {
   "cell_type": "markdown",
   "metadata": {},
   "source": [
    "### GrayScale Image    (use this as a sample image to test your functions)\n",
    "<img src = 'resz_gray.png'>\n",
    "\n",
    "#### image location resz_gray.png in the current directory"
   ]
  },
  {
   "cell_type": "code",
   "execution_count": 139,
   "metadata": {},
   "outputs": [
    {
     "data": {
      "text/plain": [
       "'\\nUse the above filters to test your convolution function on variaous filter defined above.\\nuse plt.imshow() on the resulting n-d array to test the output against the expected output \\nshown in the below cell.\\n'"
      ]
     },
     "execution_count": 139,
     "metadata": {},
     "output_type": "execute_result"
    }
   ],
   "source": [
    "### Sample filters to test your output, use plt.imshow() to output the resulting image\n",
    "\n",
    "num_filters = 4\n",
    "filter_h = 3\n",
    "filter_w = 3\n",
    "\n",
    "layer1_filter = np.zeros((num_filters, filter_h, filter_w))\n",
    "\n",
    "#Vertical\n",
    "layer1_filter[0,:,:] = np.array([\n",
    "    [\n",
    "        [-1,0,1],\n",
    "        [-1,0,1], \n",
    "        [-1,0,1]\n",
    "    ]\n",
    "])\n",
    "#Horizontal\n",
    "layer1_filter[1,:,:] = np.array([\n",
    "    [\n",
    "        [1,1,1],\n",
    "        [0,0,0],\n",
    "        [-1,-1,-1]\n",
    "    ]\n",
    "])\n",
    "#Blur\n",
    "layer1_filter[2,:,:] = np.array([\n",
    "    [\n",
    "        [1/1e9,1/1e9,1/1e9],\n",
    "        [1/1e9,1/1e9,1/1e9],\n",
    "        [1/1e9,1/1e9,1/1e9]\n",
    "    ]\n",
    "])\n",
    "#Sharpen\n",
    "layer1_filter[3,:,:] = np.array([\n",
    "    [\n",
    "        [0,-1,0],\n",
    "        [-1,5,-1],\n",
    "        [0,-1,0]\n",
    "    ]\n",
    "])\n",
    "\"\"\"\n",
    "Use the above filters to test your convolution function on variaous filter defined above.\n",
    "use plt.imshow() on the resulting n-d array to test the output against the expected output \n",
    "shown in the below cell.\n",
    "\"\"\""
   ]
  },
  {
   "cell_type": "markdown",
   "metadata": {},
   "source": [
    "## Convolution  (expected output after convolution)\n",
    "    Input:Single channel image, padding='same'\n",
    "<img src = 'post_conv.png'>"
   ]
  },
  {
   "cell_type": "code",
   "execution_count": 140,
   "metadata": {},
   "outputs": [],
   "source": [
    "## Function name: relu\n",
    "## parameters : img: np.array - Single Channel or Multi Channel\n",
    "## return-type: img: np.array\n",
    "\n",
    "### Define your function here (will be evaluated)\n",
    "def relu(img):\n",
    "    relu_out = np.zeros(img.shape)\n",
    "    for map_num in range(img.shape[-1]):\n",
    "        for r in np.arange(0,img.shape[0]):\n",
    "            for c in np.arange(0, img.shape[1]):\n",
    "                relu_out[r, c, map_num] = np.max([img[r, c, map_num], 0])\n",
    "    return relu_out\n",
    "\n"
   ]
  },
  {
   "cell_type": "markdown",
   "metadata": {},
   "source": [
    "### Output image after applying Relu\n",
    "    Input: Images after convolution\n",
    "<img src = 'post_relu.png'>"
   ]
  },
  {
   "cell_type": "code",
   "execution_count": 141,
   "metadata": {},
   "outputs": [],
   "source": [
    "## Function name: pooling\n",
    "## parameters : img: np.array - Single Channel or Multi Channel\n",
    "##              size: int - default=2\n",
    "##              stride: int - default = 2\n",
    "##              mode: str = \"max\" or \"avg\" - default = 'max'\n",
    "## return-type: img: np.array\n",
    "\n",
    "\n",
    "### Define your function here (will be evaluated)\n",
    "def pooling(img, size=2, stride=2, mode='max'):\n",
    "    pool_out = np.zeros((np.uint16((img.shape[0]-size+1)/stride+1),\n",
    "                            np.uint16((img.shape[1]-size+1)/stride+1),\n",
    "                            img.shape[-1]))\n",
    "    for map_num in range(img.shape[-1]):\n",
    "        r2 = 0\n",
    "        for r in np.arange(0,img.shape[0]-size+1, stride):\n",
    "            c2 = 0\n",
    "            for c in np.arange(0, img.shape[1]-size+1, stride):\n",
    "                if(mode=='max'):\n",
    "                    pool_out[r2, c2, map_num] = np.max([img[r:r+size,  c:c+size, map_num]])\n",
    "                else:\n",
    "                    pool_out[r2, c2, map_num] = np.mean([img[r:r+size,  c:c+size, map_num]])\n",
    "                c2 = c2 + 1\n",
    "            r2 = r2 +1\n",
    "    return pool_out\n",
    "\n"
   ]
  },
  {
   "cell_type": "markdown",
   "metadata": {},
   "source": [
    "### Output image after applying Pooling\n",
    "    Input: Images after relu, size = 3, stride = 3, mode = 'max'\n",
    "<img src = 'post_pool.png'>"
   ]
  },
  {
   "cell_type": "markdown",
   "metadata": {},
   "source": [
    "### Once you are done with your solution run the below cell before running the test cases"
   ]
  },
  {
   "cell_type": "code",
   "execution_count": 142,
   "metadata": {
    "scrolled": true
   },
   "outputs": [
    {
     "name": "stdout",
     "output_type": "stream",
     "text": [
      "[NbConvertApp] Converting notebook CNN_Scratch_Q.ipynb to script\n",
      "[NbConvertApp] Writing 8953 bytes to CNN_Scratch_Q.py\n"
     ]
    }
   ],
   "source": [
    "import os\n",
    "if __name__=='__main__':\n",
    "    !jupyter nbconvert --to script CNN_Scratch_Q.ipynb\n",
    "    \n",
    "\n",
    "    cwd = os.getcwd()\n",
    "\n",
    "    pwd = os.path.dirname(cwd)\n",
    "\n",
    "    os.rename(cwd+\"/CNN_Scratch_Q.py\", pwd+\"/contestant.py\")"
   ]
  }
 ],
 "metadata": {
  "kernelspec": {
   "display_name": "Python 3",
   "language": "python",
   "name": "python3"
  },
  "language_info": {
   "codemirror_mode": {
    "name": "ipython",
    "version": 3
   },
   "file_extension": ".py",
   "mimetype": "text/x-python",
   "name": "python",
   "nbconvert_exporter": "python",
   "pygments_lexer": "ipython3",
   "version": "3.5.2"
  }
 },
 "nbformat": 4,
 "nbformat_minor": 2
}
